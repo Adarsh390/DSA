{
 "cells": [
  {
   "cell_type": "code",
   "execution_count": 1,
   "metadata": {},
   "outputs": [
    {
     "name": "stdout",
     "output_type": "stream",
     "text": [
      "3\n"
     ]
    }
   ],
   "source": [
    "\"\"\" Question 1: Roman to Integer \"\"\"\n",
    "#Sol:\n",
    "def roman_to_integer(s):\n",
    "    roman_values = {\n",
    "        'I': 1,\n",
    "        'V': 5,\n",
    "        'X': 10,\n",
    "        'L': 50,\n",
    "        'C': 100,\n",
    "        'D': 500,\n",
    "        'M': 1000\n",
    "    }\n",
    "    \n",
    "    total = 0\n",
    "    prev_value = 0\n",
    "    \n",
    "    for c in reversed(s):\n",
    "        value = roman_values[c]\n",
    "        \n",
    "        if value < prev_value:\n",
    "            total -= value\n",
    "        else:\n",
    "            total += value\n",
    "        \n",
    "        prev_value = value\n",
    "    \n",
    "    return total\n",
    "\n",
    "# Example usage:\n",
    "roman_numeral = \"III\"\n",
    "integer_value = roman_to_integer(roman_numeral)\n",
    "print(integer_value)\n"
   ]
  },
  {
   "cell_type": "code",
   "execution_count": 2,
   "metadata": {},
   "outputs": [
    {
     "name": "stdout",
     "output_type": "stream",
     "text": [
      "3\n"
     ]
    }
   ],
   "source": [
    "\"\"\" Question-2 :**Longest Substring Without Repeating Characters**\n",
    "\n",
    "Given a string `s`, find the length of the **longest substring** without repeating characters.\n",
    " \"\"\"\n",
    " #Sol:\n",
    "def longest_substring_without_repeating(s):\n",
    "    n = len(s)\n",
    "    char_set = set()\n",
    "    longest_length = 0\n",
    "    left = 0\n",
    "    right = 0\n",
    "    \n",
    "    while right < n:\n",
    "        if s[right] not in char_set:\n",
    "            char_set.add(s[right])\n",
    "            longest_length = max(longest_length, right - left + 1)\n",
    "            right += 1\n",
    "        else:\n",
    "            char_set.remove(s[left])\n",
    "            left += 1\n",
    "    \n",
    "    return longest_length\n",
    "\n",
    "# Example usage:\n",
    "string = \"abcabcbb\"\n",
    "length = longest_substring_without_repeating(string)\n",
    "print(length)\n",
    "\n"
   ]
  },
  {
   "cell_type": "code",
   "execution_count": 3,
   "metadata": {},
   "outputs": [
    {
     "name": "stdout",
     "output_type": "stream",
     "text": [
      "2\n"
     ]
    }
   ],
   "source": [
    "\"\"\"Question-3 :Majority Element**\n",
    "Given an array `nums` of size `n`, return *the majority element*.\n",
    "The majority element is the element that appears more than `⌊n / 2⌋` times. You may assume that the majority element always exists in the array.\n",
    "\"\"\"\n",
    "#sol:\n",
    "def majority_element(nums):\n",
    "    count = 0\n",
    "    candidate = None\n",
    "    \n",
    "    for num in nums:\n",
    "        if count == 0:\n",
    "            candidate = num\n",
    "        \n",
    "        count += 1 if num == candidate else -1\n",
    "    \n",
    "    return candidate\n",
    "\n",
    "# Example usage:\n",
    "array = [2, 2, 1, 1, 1, 2, 2]\n",
    "majority = majority_element(array)\n",
    "print(majority)\n"
   ]
  },
  {
   "cell_type": "code",
   "execution_count": 4,
   "metadata": {},
   "outputs": [
    {
     "name": "stdout",
     "output_type": "stream",
     "text": [
      "[['eat', 'tea', 'ate'], ['tan', 'nat'], ['bat']]\n"
     ]
    }
   ],
   "source": [
    "\"\"\" Question 4:**Group Anagram**\n",
    "\n",
    "Given an array of strings `strs`, group **the anagrams** together. You can return the answer in **any order**.\n",
    "\n",
    "An **Anagram** is a word or phrase formed by rearranging the letters of a different word or phrase, typically using all the original letters exactly once.\n",
    "\"\"\"\n",
    "#sol:\n",
    "from collections import defaultdict\n",
    "\n",
    "def group_anagrams(strs):\n",
    "    anagram_groups = defaultdict(list)\n",
    "    \n",
    "    for word in strs:\n",
    "        # Count the occurrences of each character in the word\n",
    "        count = [0] * 26\n",
    "        for char in word:\n",
    "            count[ord(char) - ord('a')] += 1\n",
    "        \n",
    "        # Convert the count to a tuple to use it as a hashable key\n",
    "        key = tuple(count)\n",
    "        \n",
    "        # Add the word to the corresponding anagram group\n",
    "        anagram_groups[key].append(word)\n",
    "    \n",
    "    # Return the anagram groups as a list\n",
    "    return list(anagram_groups.values())\n",
    "\n",
    "# Example usage:\n",
    "strings = [\"eat\", \"tea\", \"tan\", \"ate\", \"nat\", \"bat\"]\n",
    "anagram_groups = group_anagrams(strings)\n",
    "print(anagram_groups)\n"
   ]
  },
  {
   "cell_type": "code",
   "execution_count": 5,
   "metadata": {},
   "outputs": [
    {
     "name": "stdout",
     "output_type": "stream",
     "text": [
      "12\n"
     ]
    }
   ],
   "source": [
    "\"\"\"Question : 5 **Ugly Numbers**\n",
    "\n",
    "An **ugly number** is a positive integer whose prime factors are limited to `2`, `3`, and `5`.\n",
    "\n",
    "Given an integer `n`, return *the* `nth` ***ugly number***.\n",
    "\"\"\"\n",
    "#Sol:\n",
    "def nth_ugly_number(n):\n",
    "    ugly_numbers = [1]  # Initialize the list with the first ugly number\n",
    "    i2 = i3 = i5 = 0  # Pointers for multiples of 2, 3, and 5\n",
    "    \n",
    "    while len(ugly_numbers) < n:\n",
    "        # Calculate the next ugly number by finding the minimum among the multiples\n",
    "        next_ugly = min(ugly_numbers[i2] * 2, ugly_numbers[i3] * 3, ugly_numbers[i5] * 5)\n",
    "        \n",
    "        # Update the pointers for the multiples\n",
    "        if next_ugly == ugly_numbers[i2] * 2:\n",
    "            i2 += 1\n",
    "        if next_ugly == ugly_numbers[i3] * 3:\n",
    "            i3 += 1\n",
    "        if next_ugly == ugly_numbers[i5] * 5:\n",
    "            i5 += 1\n",
    "        \n",
    "        ugly_numbers.append(next_ugly)\n",
    "    \n",
    "    return ugly_numbers[n - 1]\n",
    "\n",
    "# Example usage:\n",
    "n = 10\n",
    "ugly_number = nth_ugly_number(n)\n",
    "print(ugly_number)\n",
    "\n"
   ]
  },
  {
   "cell_type": "code",
   "execution_count": 6,
   "metadata": {},
   "outputs": [
    {
     "name": "stdout",
     "output_type": "stream",
     "text": [
      "['i', 'love']\n"
     ]
    }
   ],
   "source": [
    "\"\"\" Question 6: **Top K Frequent Words**\n",
    "\n",
    "Given an array of strings `words` and an integer `k`, return *the* `k` *most frequent strings*.\n",
    "\n",
    "Return the answer **sorted** by **the frequency** from highest to lowest. Sort the words with the same frequency by their **lexicographical order**.\n",
    " \"\"\"\n",
    "#Sol:\n",
    "from collections import Counter\n",
    "\n",
    "def top_k_frequent_words(words, k):\n",
    "    word_counts = Counter(words)  # Count the frequency of each word\n",
    "    unique_words = list(word_counts.keys())  # Get the unique words\n",
    "    \n",
    "    # Sort the unique words based on frequency (highest to lowest) and lexicographical order\n",
    "    unique_words.sort(key=lambda word: (-word_counts[word], word))\n",
    "    \n",
    "    return unique_words[:k]\n",
    "\n",
    "# Example usage:\n",
    "word_array = [\"i\", \"love\", \"leetcode\", \"i\", \"love\", \"coding\"]\n",
    "k = 2\n",
    "top_k = top_k_frequent_words(word_array, k)\n",
    "print(top_k)\n",
    "\n"
   ]
  },
  {
   "cell_type": "code",
   "execution_count": 7,
   "metadata": {},
   "outputs": [
    {
     "name": "stdout",
     "output_type": "stream",
     "text": [
      "[3, 3, 5, 5, 6, 7]\n"
     ]
    }
   ],
   "source": [
    "\"\"\" Question 7:**Sliding Window Maximum**\n",
    "\n",
    "You are given an array of integers `nums`, there is a sliding window of size `k` which is moving from the very left of the array to the very right. You can only see the `k` numbers in the window. Each time the sliding window moves right by one position.\n",
    "\n",
    "Return *the max sliding window*.\n",
    "\"\"\"\n",
    "from collections import deque\n",
    "\n",
    "def max_sliding_window(nums, k):\n",
    "    window = deque()\n",
    "    result = []\n",
    "    \n",
    "    for i in range(len(nums)):\n",
    "        # Remove elements that are out of the current window from the front of the deque\n",
    "        while window and window[0] <= i - k:\n",
    "            window.popleft()\n",
    "        \n",
    "        # Remove elements from the back of the deque that are smaller than the current element\n",
    "        while window and nums[window[-1]] < nums[i]:\n",
    "            window.pop()\n",
    "        \n",
    "        # Add the current element's index to the deque\n",
    "        window.append(i)\n",
    "        \n",
    "        # If the window has reached the minimum size of k, add the maximum element to the result\n",
    "        if i >= k - 1:\n",
    "            result.append(nums[window[0]])\n",
    "    \n",
    "    return result\n",
    "\n",
    "# Example usage:\n",
    "nums = [1, 3, -1, -3, 5, 3, 6, 7]\n",
    "k = 3\n",
    "result = max_sliding_window(nums, k)\n",
    "print(result)\n"
   ]
  },
  {
   "cell_type": "code",
   "execution_count": null,
   "metadata": {},
   "outputs": [],
   "source": [
    "\"\"\" Question 8:**Find K Closest Elements**\n",
    "\n",
    "Given a **sorted** integer array `arr`, two integers `k` and `x`, return the `k` closest integers to `x` in the array. The result should also be sorted in ascending order.\n",
    "\n",
    "An integer `a` is closer to `x` than an integer `b` if:\n",
    "\n",
    "- `|a - x| < |b - x|`, or\n",
    "- `|a - x| == |b - x|` and `a < b`\n",
    " \"\"\"\n",
    "def find_closest_elements(arr, k, x):\n",
    "    left = 0\n",
    "    right = len(arr) - 1\n",
    "    \n",
    "    # Use binary search to find the closest element to x\n",
    "    while left < right:\n",
    "        mid = (left + right) // 2\n",
    "        if arr[mid] < x:\n",
    "            left = mid + 1\n",
    "        else:\n",
    "            right = mid\n",
    "    \n",
    "    # Set the left pointer as the start of the k closest elements\n",
    "    left -= 1\n",
    "    \n",
    "    # Set the right pointer as the end of the k closest elements\n",
    "    right += 1\n",
    "    \n",
    "    # Expand the window until it contains k elements\n",
    "    while right - left - 1 < k:\n",
    "        if left == -1:  # Left pointer is at the beginning of the array\n",
    "            right += 1\n",
    "        elif right == len(arr):  # Right pointer is at the end of the array\n",
    "            left -= 1\n",
    "        elif abs(arr[left] - x) <= abs(arr[right] - x):  # Left element is closer to x\n",
    "            left -= 1\n",
    "        else:  # Right element is closer to x\n",
    "            right += 1\n",
    "    \n",
    "    # Return the k closest elements\n",
    "    return arr[left + 1:right]\n",
    "\n",
    "# Example usage:\n",
    "arr = [1, 2, 3, 4, 5]\n",
    "k = 4\n",
    "x = 3\n",
    "closest_elements = find_closest_elements(arr, k, x)\n",
    "print(closest_elements)\n"
   ]
  }
 ],
 "metadata": {
  "kernelspec": {
   "display_name": "Python 3",
   "language": "python",
   "name": "python3"
  },
  "language_info": {
   "codemirror_mode": {
    "name": "ipython",
    "version": 3
   },
   "file_extension": ".py",
   "mimetype": "text/x-python",
   "name": "python",
   "nbconvert_exporter": "python",
   "pygments_lexer": "ipython3",
   "version": "3.11.4"
  },
  "orig_nbformat": 4
 },
 "nbformat": 4,
 "nbformat_minor": 2
}
